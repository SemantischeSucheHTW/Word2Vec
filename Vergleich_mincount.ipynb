{
 "cells": [
  {
   "cell_type": "code",
   "execution_count": 1,
   "metadata": {},
   "outputs": [
    {
     "name": "stderr",
     "output_type": "stream",
     "text": [
      "C:\\Users\\olive\\Anaconda3\\envs\\sema\\lib\\site-packages\\gensim\\utils.py:1197: UserWarning: detected Windows; aliasing chunkize to chunkize_serial\n",
      "  warnings.warn(\"detected Windows; aliasing chunkize to chunkize_serial\")\n"
     ]
    }
   ],
   "source": [
    "from model.preprocessor import *\n",
    "from model.similarWords import SimilarWords"
   ]
  },
  {
   "cell_type": "code",
   "execution_count": 2,
   "metadata": {},
   "outputs": [],
   "source": [
    "configmi2 = {}\n",
    "configmi2['model_name'] = 'mincount2w2restDefault.model'\n",
    "swmi2 = SimilarWords(configmi2)"
   ]
  },
  {
   "cell_type": "code",
   "execution_count": 3,
   "metadata": {},
   "outputs": [],
   "source": [
    "configmi3 = {}\n",
    "configmi3['model_name'] = 'mincount3w2restDefault.model'\n",
    "swmi3 = SimilarWords(configmi3)"
   ]
  },
  {
   "cell_type": "code",
   "execution_count": 4,
   "metadata": {},
   "outputs": [],
   "source": [
    "configmi4 = {}\n",
    "configmi4['model_name'] = 'mincount4w2restDefault.model'\n",
    "swmi4 = SimilarWords(configmi4)"
   ]
  },
  {
   "cell_type": "code",
   "execution_count": 5,
   "metadata": {},
   "outputs": [],
   "source": [
    "configmi5 = {}\n",
    "configmi5['model_name'] = 'mincount5w2restDefault.model'\n",
    "swmi5 = SimilarWords(configmi5)"
   ]
  },
  {
   "cell_type": "code",
   "execution_count": 6,
   "metadata": {},
   "outputs": [],
   "source": [
    "userinput = 'überfall messer auto'\n",
    "user_token = userinput.lower().split(\" \")"
   ]
  },
  {
   "cell_type": "code",
   "execution_count": 7,
   "metadata": {},
   "outputs": [],
   "source": [
    "sw1_with_drop, sw1_without_drop = swmi2.get_similar_words(user_token)\n",
    "sw2_with_drop, sw2_without_drop = swmi3.get_similar_words(user_token)\n",
    "sw3_with_drop, sw3_without_drop = swmi4.get_similar_words(user_token)\n",
    "sw4_with_drop, sw4_without_drop = swmi5.get_similar_words(user_token)"
   ]
  },
  {
   "cell_type": "code",
   "execution_count": 8,
   "metadata": {},
   "outputs": [
    {
     "data": {
      "text/plain": [
       "[[('angriff', 0.701210618019104),\n",
       "  ('raub', 0.69852215051651),\n",
       "  ('raubüberfall', 0.6665847897529602),\n",
       "  ('unfall', 0.6059129238128662),\n",
       "  ('verkehrsunfall', 0.5997296571731567)],\n",
       " [('pfefferspray', 0.6571285724639893),\n",
       "  ('elektroschockgerät', 0.6426253318786621),\n",
       "  ('baseballschläger', 0.6215662956237793),\n",
       "  ('schlagstock', 0.5901961326599121),\n",
       "  ('hammer', 0.5858768224716187)],\n",
       " [('fahrzeug', 0.8683001399040222),\n",
       "  ('taxi', 0.7357081174850464),\n",
       "  ('wagen', 0.7186809778213501),\n",
       "  ('pkw', 0.6990581750869751),\n",
       "  ('fahrrad', 0.6430860757827759)]]"
      ]
     },
     "execution_count": 8,
     "metadata": {},
     "output_type": "execute_result"
    }
   ],
   "source": [
    "sw1_without_drop"
   ]
  },
  {
   "cell_type": "code",
   "execution_count": 9,
   "metadata": {},
   "outputs": [
    {
     "data": {
      "text/plain": [
       "[[('raub', 0.6719348430633545),\n",
       "  ('angriff', 0.6686277389526367),\n",
       "  ('raubüberfall', 0.6554145812988281),\n",
       "  ('verkehrsunfall', 0.5802786350250244),\n",
       "  ('übergriff', 0.5621309280395508)],\n",
       " [('elektroschockgerät', 0.6442814469337463),\n",
       "  ('pfefferspray', 0.6346778273582458),\n",
       "  ('baseballschläger', 0.6202265024185181),\n",
       "  ('cuttermesser', 0.5808891654014587),\n",
       "  ('hammer', 0.5793087482452393)],\n",
       " [('fahrzeug', 0.8790493011474609),\n",
       "  ('taxi', 0.7519488334655762),\n",
       "  ('wagen', 0.7274981141090393),\n",
       "  ('pkw', 0.7116776704788208),\n",
       "  ('motorrad', 0.6795835494995117)]]"
      ]
     },
     "execution_count": 9,
     "metadata": {},
     "output_type": "execute_result"
    }
   ],
   "source": [
    "sw2_without_drop"
   ]
  },
  {
   "cell_type": "code",
   "execution_count": 10,
   "metadata": {},
   "outputs": [
    {
     "data": {
      "text/plain": [
       "[[('raub', 0.7049260139465332),\n",
       "  ('angriff', 0.6828588247299194),\n",
       "  ('raubüberfall', 0.6462571620941162),\n",
       "  ('unfall', 0.6313183307647705),\n",
       "  ('verkehrsunfall', 0.5771766901016235)],\n",
       " [('pfefferspray', 0.6415748596191406),\n",
       "  ('elektroschockgerät', 0.6305789947509766),\n",
       "  ('beil', 0.5849024057388306),\n",
       "  ('baseballschläger', 0.5759602189064026),\n",
       "  ('taschenmesser', 0.5755923390388489)],\n",
       " [('fahrzeug', 0.8487770557403564),\n",
       "  ('pkw', 0.7432008981704712),\n",
       "  ('taxi', 0.7302786111831665),\n",
       "  ('wagen', 0.6819087266921997),\n",
       "  ('motorrad', 0.6797404289245605)]]"
      ]
     },
     "execution_count": 10,
     "metadata": {},
     "output_type": "execute_result"
    }
   ],
   "source": [
    "sw3_without_drop"
   ]
  },
  {
   "cell_type": "code",
   "execution_count": 11,
   "metadata": {},
   "outputs": [
    {
     "data": {
      "text/plain": [
       "[[('raub', 0.7083141803741455),\n",
       "  ('raubüberfall', 0.675759494304657),\n",
       "  ('angriff', 0.6001843810081482),\n",
       "  ('unfall', 0.5823698043823242),\n",
       "  ('verkehrsunfall', 0.5786296129226685)],\n",
       " [('elektroschockgerät', 0.6596242189407349),\n",
       "  ('pfefferspray', 0.6144737601280212),\n",
       "  ('hammer', 0.5995848178863525),\n",
       "  ('taschenmesser', 0.5920547842979431),\n",
       "  ('beil', 0.5813485383987427)],\n",
       " [('fahrzeug', 0.8689701557159424),\n",
       "  ('wagen', 0.7267130613327026),\n",
       "  ('taxi', 0.7211405038833618),\n",
       "  ('pkw', 0.7083688974380493),\n",
       "  ('motorrad', 0.696675181388855)]]"
      ]
     },
     "execution_count": 11,
     "metadata": {},
     "output_type": "execute_result"
    }
   ],
   "source": [
    "sw4_without_drop"
   ]
  }
 ],
 "metadata": {
  "kernelspec": {
   "display_name": "Python 3",
   "language": "python",
   "name": "python3"
  },
  "language_info": {
   "codemirror_mode": {
    "name": "ipython",
    "version": 3
   },
   "file_extension": ".py",
   "mimetype": "text/x-python",
   "name": "python",
   "nbconvert_exporter": "python",
   "pygments_lexer": "ipython3",
   "version": "3.7.2"
  }
 },
 "nbformat": 4,
 "nbformat_minor": 2
}
