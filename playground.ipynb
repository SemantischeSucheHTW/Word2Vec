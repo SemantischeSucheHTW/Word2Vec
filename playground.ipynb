{
 "cells": [
  {
   "cell_type": "code",
   "execution_count": 1,
   "metadata": {},
   "outputs": [],
   "source": [
    "from model.preprocessor import *\n",
    "from model.similarWords import SimilarWords"
   ]
  },
  {
   "cell_type": "code",
   "execution_count": 2,
   "metadata": {},
   "outputs": [],
   "source": [
    "config = {}\n",
    "config['model_name'] = 'word2vec.model'\n",
    "sw = SimilarWords(config)"
   ]
  },
  {
   "cell_type": "code",
   "execution_count": 3,
   "metadata": {},
   "outputs": [
    {
     "data": {
      "text/plain": [
       "['überfall', 'in', 'pankow']"
      ]
     },
     "execution_count": 3,
     "metadata": {},
     "output_type": "execute_result"
    }
   ],
   "source": [
    "userinput = 'überfall in Pankow'\n",
    "user_token = userinput.lower().split(\" \")\n",
    "user_token"
   ]
  },
  {
   "cell_type": "code",
   "execution_count": 4,
   "metadata": {},
   "outputs": [
    {
     "name": "stderr",
     "output_type": "stream",
     "text": [
      "/home/s0558366/.local/lib/python3.6/site-packages/gensim/matutils.py:737: FutureWarning: Conversion of the second argument of issubdtype from `int` to `np.signedinteger` is deprecated. In future, it will be treated as `np.int64 == np.dtype(int).type`.\n",
      "  if np.issubdtype(vec.dtype, np.int):\n"
     ]
    },
    {
     "data": {
      "text/plain": [
       "[[('raubüberfall', 0.760978639125824),\n",
       "  ('angriff', 0.7072653770446777),\n",
       "  ('raub', 0.6636514663696289),\n",
       "  ('übergriff', 0.6274051666259766),\n",
       "  ('alleinunfall', 0.6120458841323853)],\n",
       " [('aus', 0.4707461893558502),\n",
       "  ('im', 0.43722590804100037),\n",
       "  ('der', 0.4300031065940857),\n",
       "  ('autobahndreiecks', 0.4123684763908386),\n",
       "  ('charlottenburger', 0.40777385234832764)],\n",
       " [('friedenau', 0.6912210583686829),\n",
       "  ('wedding', 0.6756397485733032),\n",
       "  ('schöneberg', 0.6682115197181702),\n",
       "  ('friedrichshain', 0.6553953289985657),\n",
       "  ('wilmersdorf', 0.6495835781097412)]]"
      ]
     },
     "execution_count": 4,
     "metadata": {},
     "output_type": "execute_result"
    }
   ],
   "source": [
    "sw.get_positive_similar_words(user_token)"
   ]
  },
  {
   "cell_type": "code",
   "execution_count": 5,
   "metadata": {},
   "outputs": [
    {
     "name": "stderr",
     "output_type": "stream",
     "text": [
      "/home/s0558366/.local/lib/python3.6/site-packages/gensim/matutils.py:737: FutureWarning: Conversion of the second argument of issubdtype from `int` to `np.signedinteger` is deprecated. In future, it will be treated as `np.int64 == np.dtype(int).type`.\n",
      "  if np.issubdtype(vec.dtype, np.int):\n"
     ]
    },
    {
     "data": {
      "text/plain": [
       "[[('obwohl', 0.3841339945793152),\n",
       "  ('mitbekamen', 0.3694261312484741),\n",
       "  ('steckendem', 0.36618152260780334),\n",
       "  ('musst', 0.36000707745552063),\n",
       "  ('frontal', 0.3553030788898468)],\n",
       " [('gefangenensammelstelle', 0.40218305587768555),\n",
       "  ('einemzeuge', 0.38346007466316223),\n",
       "  ('weiterhin', 0.3710229992866516),\n",
       "  ('lüftungs', 0.36389461159706116),\n",
       "  ('fußgängerampeln', 0.34781017899513245)],\n",
       " [('losfuhren', 0.40194883942604065),\n",
       "  ('auszuhändigen', 0.40157195925712585),\n",
       "  ('bedroher', 0.3951886296272278),\n",
       "  ('durchschalten', 0.39453789591789246),\n",
       "  ('einnebelten', 0.3935937285423279)]]"
      ]
     },
     "execution_count": 5,
     "metadata": {},
     "output_type": "execute_result"
    }
   ],
   "source": [
    "sw.get_negative_similar_words(user_token)"
   ]
  },
  {
   "cell_type": "code",
   "execution_count": null,
   "metadata": {},
   "outputs": [],
   "source": []
  }
 ],
 "metadata": {
  "kernelspec": {
   "display_name": "Python 3",
   "language": "python",
   "name": "python3"
  },
  "language_info": {
   "codemirror_mode": {
    "name": "ipython",
    "version": 3
   },
   "file_extension": ".py",
   "mimetype": "text/x-python",
   "name": "python",
   "nbconvert_exporter": "python",
   "pygments_lexer": "ipython3",
   "version": "3.6.6"
  },
  "toc": {
   "base_numbering": 1,
   "nav_menu": {},
   "number_sections": true,
   "sideBar": true,
   "skip_h1_title": false,
   "title_cell": "Table of Contents",
   "title_sidebar": "Contents",
   "toc_cell": false,
   "toc_position": {},
   "toc_section_display": true,
   "toc_window_display": false
  }
 },
 "nbformat": 4,
 "nbformat_minor": 2
}
