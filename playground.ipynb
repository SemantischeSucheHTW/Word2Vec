{
 "cells": [
  {
   "cell_type": "code",
   "execution_count": 1,
   "metadata": {},
   "outputs": [
    {
     "name": "stderr",
     "output_type": "stream",
     "text": [
      "C:\\Users\\olive\\Anaconda3\\envs\\sema\\lib\\site-packages\\gensim\\utils.py:1197: UserWarning: detected Windows; aliasing chunkize to chunkize_serial\n",
      "  warnings.warn(\"detected Windows; aliasing chunkize to chunkize_serial\")\n"
     ]
    }
   ],
   "source": [
    "from model.preprocessor import *\n",
    "from model.similarWords import SimilarWords"
   ]
  },
  {
   "cell_type": "code",
   "execution_count": 2,
   "metadata": {},
   "outputs": [],
   "source": [
    "config = {}\n",
    "config['model_name'] = 'word2vec.model'\n",
    "sw = SimilarWords(config)"
   ]
  },
  {
   "cell_type": "code",
   "execution_count": 3,
   "metadata": {},
   "outputs": [
    {
     "data": {
      "text/plain": [
       "['überfall', 'pankow', 'zu']"
      ]
     },
     "execution_count": 3,
     "metadata": {},
     "output_type": "execute_result"
    }
   ],
   "source": [
    "userinput = 'überfall pankow zu'\n",
    "user_token = userinput.lower().split(\" \")\n",
    "user_token"
   ]
  },
  {
   "cell_type": "code",
   "execution_count": 4,
   "metadata": {},
   "outputs": [],
   "source": [
    "with_drop, without_drop = sw.get_similar_words(user_token)"
   ]
  },
  {
   "cell_type": "code",
   "execution_count": 5,
   "metadata": {},
   "outputs": [
    {
     "data": {
      "text/plain": [
       "[('raubüberfall', 0.760978639125824),\n",
       " ('angriff', 0.7072653770446777),\n",
       " ('raub', 0.6636514663696289),\n",
       " ('übergriff', 0.6274052858352661),\n",
       " ('alleinunfall', 0.6120458841323853),\n",
       " ('friedenau', 0.6912210583686829),\n",
       " ('wedding', 0.6756397485733032),\n",
       " ('schöneberg', 0.6682116389274597),\n",
       " ('friedrichshain', 0.6553952693939209),\n",
       " ('wilmersdorf', 0.6495835781097412),\n",
       " ('zum', 0.43304216861724854),\n",
       " ('wollten', 0.40503990650177)]"
      ]
     },
     "execution_count": 5,
     "metadata": {},
     "output_type": "execute_result"
    }
   ],
   "source": [
    "with_drop"
   ]
  },
  {
   "cell_type": "code",
   "execution_count": 6,
   "metadata": {},
   "outputs": [
    {
     "data": {
      "text/plain": [
       "[[('raubüberfall', 0.760978639125824),\n",
       "  ('angriff', 0.7072653770446777),\n",
       "  ('raub', 0.6636514663696289),\n",
       "  ('übergriff', 0.6274052858352661),\n",
       "  ('alleinunfall', 0.6120458841323853)],\n",
       " [('friedenau', 0.6912210583686829),\n",
       "  ('wedding', 0.6756397485733032),\n",
       "  ('schöneberg', 0.6682116389274597),\n",
       "  ('friedrichshain', 0.6553952693939209),\n",
       "  ('wilmersdorf', 0.6495835781097412)],\n",
       " [('zum', 0.43304216861724854),\n",
       "  ('wollten', 0.40503990650177),\n",
       "  ('dazu', 0.3877300024032593),\n",
       "  ('und', 0.36883366107940674),\n",
       "  ('fixierten', 0.36260223388671875)]]"
      ]
     },
     "execution_count": 6,
     "metadata": {},
     "output_type": "execute_result"
    }
   ],
   "source": [
    "without_drop"
   ]
  }
 ],
 "metadata": {
  "kernelspec": {
   "display_name": "Python 3",
   "language": "python",
   "name": "python3"
  },
  "language_info": {
   "codemirror_mode": {
    "name": "ipython",
    "version": 3
   },
   "file_extension": ".py",
   "mimetype": "text/x-python",
   "name": "python",
   "nbconvert_exporter": "python",
   "pygments_lexer": "ipython3",
   "version": "3.7.2"
  },
  "toc": {
   "base_numbering": 1,
   "nav_menu": {},
   "number_sections": true,
   "sideBar": true,
   "skip_h1_title": false,
   "title_cell": "Table of Contents",
   "title_sidebar": "Contents",
   "toc_cell": false,
   "toc_position": {},
   "toc_section_display": true,
   "toc_window_display": false
  }
 },
 "nbformat": 4,
 "nbformat_minor": 2
}
