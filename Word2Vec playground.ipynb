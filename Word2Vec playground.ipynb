{
 "cells": [
  {
   "cell_type": "code",
   "execution_count": 1,
   "metadata": {},
   "outputs": [],
   "source": [
    "import pandas as pd\n",
    "import numpy as np\n",
    "import re\n",
    "import tensorflow as tf\n",
    "from gensim.models import Word2Vec"
   ]
  },
  {
   "cell_type": "code",
   "execution_count": 2,
   "metadata": {},
   "outputs": [],
   "source": [
    "from model.preprocessor import *"
   ]
  },
  {
   "cell_type": "code",
   "execution_count": 3,
   "metadata": {},
   "outputs": [],
   "source": [
    "pretrained_dir = 'pretrained-models/'"
   ]
  },
  {
   "cell_type": "code",
   "execution_count": 4,
   "metadata": {
    "scrolled": true
   },
   "outputs": [
    {
     "name": "stdout",
     "output_type": "stream",
     "text": [
      "starting cleaning texts\n",
      "starting tokenizing\n"
     ]
    }
   ],
   "source": [
    "df = pd.read_csv('pagedetails.csv')\n",
    "raw_texts = df.get_values()\n",
    "cleaned_texts = clean_document(raw_texts)\n",
    "tokenized = tokenize_documents(cleaned_texts)\n",
    "words = get_vocabulary(tokenized)"
   ]
  },
  {
   "cell_type": "code",
   "execution_count": 5,
   "metadata": {},
   "outputs": [],
   "source": [
    "model = Word2Vec(tokenized, size=100, window=5, min_count=1, workers=4)\n",
    "model.save(\"test.model\")"
   ]
  },
  {
   "cell_type": "markdown",
   "metadata": {},
   "source": [
    "size - output dimension\n",
    "window - how many words\n",
    "workers - how many workes will be used \n",
    "min_count - Ignores all words with total frequency lower than this.\n",
    "alpha (float, optional) – The initial learning rate.\n",
    "min_alpha (float, optional) – Learning rate will linearly drop to min_alpha as training progresses."
   ]
  },
  {
   "cell_type": "code",
   "execution_count": 12,
   "metadata": {},
   "outputs": [
    {
     "data": {
      "text/plain": [
       "(9538066, 11866670)"
      ]
     },
     "execution_count": 12,
     "metadata": {},
     "output_type": "execute_result"
    }
   ],
   "source": [
    "model.train(tokenized, total_examples=model.corpus_count, epochs=10)"
   ]
  },
  {
   "cell_type": "code",
   "execution_count": 19,
   "metadata": {},
   "outputs": [
    {
     "name": "stderr",
     "output_type": "stream",
     "text": [
      "/home/s0558366/.local/lib/python3.6/site-packages/gensim/matutils.py:737: FutureWarning: Conversion of the second argument of issubdtype from `int` to `np.signedinteger` is deprecated. In future, it will be treated as `np.int64 == np.dtype(int).type`.\n",
      "  if np.issubdtype(vec.dtype, np.int):\n"
     ]
    },
    {
     "data": {
      "text/plain": [
       "[('rad', 0.8069729804992676),\n",
       " ('roller', 0.6751934885978699),\n",
       " ('kleinkraftrad', 0.6334805488586426),\n",
       " ('mountainbike', 0.6240423321723938),\n",
       " ('auto', 0.6206759214401245),\n",
       " ('lastwagen', 0.618838906288147),\n",
       " ('smart', 0.6165290474891663),\n",
       " ('rennrad', 0.5966746807098389),\n",
       " ('rollator', 0.5781656503677368),\n",
       " ('moped', 0.5681288242340088)]"
      ]
     },
     "execution_count": 19,
     "metadata": {},
     "output_type": "execute_result"
    }
   ],
   "source": [
    "test = [\"fahrrad\"]\n",
    "model.wv.most_similar(positive=test, topn=10)"
   ]
  },
  {
   "cell_type": "code",
   "execution_count": 26,
   "metadata": {},
   "outputs": [],
   "source": [
    "import os\n",
    "import sys\n",
    "import argparse"
   ]
  },
  {
   "cell_type": "code",
   "execution_count": null,
   "metadata": {},
   "outputs": [],
   "source": []
  },
  {
   "cell_type": "code",
   "execution_count": 41,
   "metadata": {},
   "outputs": [
    {
     "data": {
      "text/plain": [
       "_StoreAction(option_strings=['-e', '--epoch'], dest='epoch', nargs=None, const=None, default=100, type=None, choices=None, help='number of iterations over the corpus - how often our model will see our dataset', metavar=None)"
      ]
     },
     "execution_count": 41,
     "metadata": {},
     "output_type": "execute_result"
    }
   ],
   "source": [
    "parser = argparse.ArgumentParser(\n",
    "        description=__doc__,\n",
    "        formatter_class=argparse.RawDescriptionHelpFormatter)\n",
    "parser.add_argument('-o', '--outfile', help='output file in which the Word2Vec Model will be saved - default name is word2vec.model',\n",
    "                        default='word2vec.model')\n",
    "parser.add_argument('-w', '--workers', help='how many workes will be used ',\n",
    "                        default=1)\n",
    "parser.add_argument('-s', '--size', help='dimensionality of the word vectors.',\n",
    "                        default=100)\n",
    "parser.add_argument('-m', '--mincount', help='how many words will be ignored with the total frequency lower than this number',\n",
    "                        default=1)\n",
    "parser.add_argument('-e', '--epoch', help='number of iterations over the corpus - how often our model will see our dataset',\n",
    "                        default=100)"
   ]
  }
 ],
 "metadata": {
  "kernelspec": {
   "display_name": "Python 3",
   "language": "python",
   "name": "python3"
  },
  "language_info": {
   "codemirror_mode": {
    "name": "ipython",
    "version": 3
   },
   "file_extension": ".py",
   "mimetype": "text/x-python",
   "name": "python",
   "nbconvert_exporter": "python",
   "pygments_lexer": "ipython3",
   "version": "3.6.6"
  },
  "toc": {
   "base_numbering": 1,
   "nav_menu": {},
   "number_sections": true,
   "sideBar": true,
   "skip_h1_title": false,
   "title_cell": "Table of Contents",
   "title_sidebar": "Contents",
   "toc_cell": false,
   "toc_position": {},
   "toc_section_display": true,
   "toc_window_display": false
  }
 },
 "nbformat": 4,
 "nbformat_minor": 2
}
