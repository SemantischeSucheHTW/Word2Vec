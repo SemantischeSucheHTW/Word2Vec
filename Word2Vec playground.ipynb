{
 "cells": [
  {
   "cell_type": "code",
   "execution_count": 1,
   "metadata": {},
   "outputs": [],
   "source": [
    "import pandas as pd\n",
    "import numpy as np\n",
    "import re\n",
    "import tensorflow as tf\n",
    "from gensim.models import Word2Vec"
   ]
  },
  {
   "cell_type": "code",
   "execution_count": 2,
   "metadata": {},
   "outputs": [],
   "source": [
    "from model.preprocessor import *"
   ]
  },
  {
   "cell_type": "code",
   "execution_count": 3,
   "metadata": {},
   "outputs": [],
   "source": [
    "pretrained_dir = 'pretrained-models/'"
   ]
  },
  {
   "cell_type": "code",
   "execution_count": 13,
   "metadata": {
    "scrolled": true
   },
   "outputs": [
    {
     "name": "stdout",
     "output_type": "stream",
     "text": [
      "starting cleaning texts\n",
      "starting tokenizing\n"
     ]
    }
   ],
   "source": [
    "df = pd.read_csv('/home/s0558366/Word2Vec/data/police_reports.csv')\n",
    "raw_texts = df.text.get_values()\n",
    "cleaned_texts = clean_document(raw_texts)\n",
    "tokenized = tokenize_documents(cleaned_texts)\n",
    "words = get_vocabulary(tokenized)"
   ]
  },
  {
   "cell_type": "code",
   "execution_count": 12,
   "metadata": {},
   "outputs": [
    {
     "data": {
      "text/html": [
       "<div>\n",
       "<style scoped>\n",
       "    .dataframe tbody tr th:only-of-type {\n",
       "        vertical-align: middle;\n",
       "    }\n",
       "\n",
       "    .dataframe tbody tr th {\n",
       "        vertical-align: top;\n",
       "    }\n",
       "\n",
       "    .dataframe thead th {\n",
       "        text-align: right;\n",
       "    }\n",
       "</style>\n",
       "<table border=\"1\" class=\"dataframe\">\n",
       "  <thead>\n",
       "    <tr style=\"text-align: right;\">\n",
       "      <th></th>\n",
       "      <th>_id</th>\n",
       "      <th>url</th>\n",
       "      <th>title</th>\n",
       "      <th>location</th>\n",
       "      <th>date</th>\n",
       "      <th>nr</th>\n",
       "      <th>text</th>\n",
       "      <th>words</th>\n",
       "    </tr>\n",
       "  </thead>\n",
       "  <tbody>\n",
       "    <tr>\n",
       "      <th>0</th>\n",
       "      <td>https://www.berlin.de/polizei/polizeimeldungen...</td>\n",
       "      <td>https://www.berlin.de/polizei/polizeimeldungen...</td>\n",
       "      <td>Geschossen, gebissen, geflüchtet</td>\n",
       "      <td>Neukölln</td>\n",
       "      <td>2014-12-31</td>\n",
       "      <td>3099.0</td>\n",
       "      <td>Zu einem Überfall auf eine Spielothek kam es i...</td>\n",
       "      <td>[\"überfall\",\"spielothek\",\"nacht\",\"neukölln\",\"4...</td>\n",
       "    </tr>\n",
       "    <tr>\n",
       "      <th>1</th>\n",
       "      <td>https://www.berlin.de/polizei/polizeimeldungen...</td>\n",
       "      <td>https://www.berlin.de/polizei/polizeimeldungen...</td>\n",
       "      <td>Seniorin beim Unfall schwer verletzt</td>\n",
       "      <td>Reinickendorf</td>\n",
       "      <td>2014-12-31</td>\n",
       "      <td>3098.0</td>\n",
       "      <td>Ein Fußgängerin wurde gestern Nachmittag bei e...</td>\n",
       "      <td>[\"fußgängerin\",\"gestern\",\"nachmittag\",\"unfall\"...</td>\n",
       "    </tr>\n",
       "    <tr>\n",
       "      <th>2</th>\n",
       "      <td>https://www.berlin.de/polizei/polizeimeldungen...</td>\n",
       "      <td>https://www.berlin.de/polizei/polizeimeldungen...</td>\n",
       "      <td>Einbruch in Pfandleihhaus</td>\n",
       "      <td>Charlottenburg-Wilmersdorf</td>\n",
       "      <td>2014-12-31</td>\n",
       "      <td>3097.0</td>\n",
       "      <td>Unbekannte brachen heute früh in ein Pfandleih...</td>\n",
       "      <td>[\"unbekannte\",\"brachen\",\"früh\",\"pfandleihhaus\"...</td>\n",
       "    </tr>\n",
       "    <tr>\n",
       "      <th>3</th>\n",
       "      <td>https://www.berlin.de/polizei/polizeimeldungen...</td>\n",
       "      <td>https://www.berlin.de/polizei/polizeimeldungen...</td>\n",
       "      <td>960 Böller beschlagnahmt</td>\n",
       "      <td>Mitte</td>\n",
       "      <td>2014-12-30</td>\n",
       "      <td>3093.0</td>\n",
       "      <td>Zivilfahnder des Polizeiabschnitts 35 beschlag...</td>\n",
       "      <td>[\"zivilfahnder\",\"polizeiabschnitts\",\"35\",\"besc...</td>\n",
       "    </tr>\n",
       "    <tr>\n",
       "      <th>4</th>\n",
       "      <td>https://www.berlin.de/polizei/polizeimeldungen...</td>\n",
       "      <td>https://www.berlin.de/polizei/polizeimeldungen...</td>\n",
       "      <td>Auto in Brand gesetzt</td>\n",
       "      <td>Pankow</td>\n",
       "      <td>2014-12-30</td>\n",
       "      <td>3090.0</td>\n",
       "      <td>In Heinersdorf brannte in der vergangenen Nach...</td>\n",
       "      <td>[\"heinersdorf\",\"brannte\",\"nacht\",\"geparkter\",\"...</td>\n",
       "    </tr>\n",
       "  </tbody>\n",
       "</table>\n",
       "</div>"
      ],
      "text/plain": [
       "                                                 _id  \\\n",
       "0  https://www.berlin.de/polizei/polizeimeldungen...   \n",
       "1  https://www.berlin.de/polizei/polizeimeldungen...   \n",
       "2  https://www.berlin.de/polizei/polizeimeldungen...   \n",
       "3  https://www.berlin.de/polizei/polizeimeldungen...   \n",
       "4  https://www.berlin.de/polizei/polizeimeldungen...   \n",
       "\n",
       "                                                 url  \\\n",
       "0  https://www.berlin.de/polizei/polizeimeldungen...   \n",
       "1  https://www.berlin.de/polizei/polizeimeldungen...   \n",
       "2  https://www.berlin.de/polizei/polizeimeldungen...   \n",
       "3  https://www.berlin.de/polizei/polizeimeldungen...   \n",
       "4  https://www.berlin.de/polizei/polizeimeldungen...   \n",
       "\n",
       "                                  title                    location  \\\n",
       "0      Geschossen, gebissen, geflüchtet                    Neukölln   \n",
       "1  Seniorin beim Unfall schwer verletzt               Reinickendorf   \n",
       "2             Einbruch in Pfandleihhaus  Charlottenburg-Wilmersdorf   \n",
       "3              960 Böller beschlagnahmt                       Mitte   \n",
       "4                 Auto in Brand gesetzt                      Pankow   \n",
       "\n",
       "         date      nr                                               text  \\\n",
       "0  2014-12-31  3099.0  Zu einem Überfall auf eine Spielothek kam es i...   \n",
       "1  2014-12-31  3098.0  Ein Fußgängerin wurde gestern Nachmittag bei e...   \n",
       "2  2014-12-31  3097.0  Unbekannte brachen heute früh in ein Pfandleih...   \n",
       "3  2014-12-30  3093.0  Zivilfahnder des Polizeiabschnitts 35 beschlag...   \n",
       "4  2014-12-30  3090.0  In Heinersdorf brannte in der vergangenen Nach...   \n",
       "\n",
       "                                               words  \n",
       "0  [\"überfall\",\"spielothek\",\"nacht\",\"neukölln\",\"4...  \n",
       "1  [\"fußgängerin\",\"gestern\",\"nachmittag\",\"unfall\"...  \n",
       "2  [\"unbekannte\",\"brachen\",\"früh\",\"pfandleihhaus\"...  \n",
       "3  [\"zivilfahnder\",\"polizeiabschnitts\",\"35\",\"besc...  \n",
       "4  [\"heinersdorf\",\"brannte\",\"nacht\",\"geparkter\",\"...  "
      ]
     },
     "execution_count": 12,
     "metadata": {},
     "output_type": "execute_result"
    }
   ],
   "source": [
    "df.head()"
   ]
  },
  {
   "cell_type": "code",
   "execution_count": null,
   "metadata": {},
   "outputs": [],
   "source": [
    "model = Word2Vec(tokenized, size=100, window=5, min_count=1, workers=4)\n",
    "#model.save(\"test.model\")"
   ]
  },
  {
   "cell_type": "markdown",
   "metadata": {},
   "source": [
    "size - output dimension\n",
    "window - how many words\n",
    "workers - how many workes will be used \n",
    "min_count - Ignores all words with total frequency lower than this.\n",
    "alpha (float, optional) – The initial learning rate.\n",
    "min_alpha (float, optional) – Learning rate will linearly drop to min_alpha as training progresses."
   ]
  },
  {
   "cell_type": "code",
   "execution_count": null,
   "metadata": {},
   "outputs": [],
   "source": [
    "model.train(tokenized, total_examples=model.corpus_count, epochs=10)"
   ]
  },
  {
   "cell_type": "code",
   "execution_count": null,
   "metadata": {},
   "outputs": [],
   "source": [
    "test = [\"fahrrad\"]\n",
    "model.wv.most_similar(positive=test, topn=10)"
   ]
  },
  {
   "cell_type": "code",
   "execution_count": null,
   "metadata": {},
   "outputs": [],
   "source": [
    "parser = argparse.ArgumentParser(\n",
    "        description=__doc__,\n",
    "        formatter_class=argparse.RawDescriptionHelpFormatter)\n",
    "parser.add_argument('-o', '--outfile', help='output file in which the Word2Vec Model will be saved - default name is word2vec.model',\n",
    "                        default='word2vec.model')\n",
    "parser.add_argument('-w', '--workers', help='how many workes will be used ',\n",
    "                        default=1)\n",
    "parser.add_argument('-s', '--size', help='dimensionality of the word vectors.',\n",
    "                        default=100)\n",
    "parser.add_argument('-m', '--mincount', help='how many words will be ignored with the total frequency lower than this number',\n",
    "                        default=1)\n",
    "parser.add_argument('-e', '--epoch', help='number of iterations over the corpus - how often our model will see our dataset',\n",
    "                        default=100)\n"
   ]
  },
  {
   "cell_type": "code",
   "execution_count": null,
   "metadata": {},
   "outputs": [],
   "source": []
  }
 ],
 "metadata": {
  "kernelspec": {
   "display_name": "Python 3",
   "language": "python",
   "name": "python3"
  },
  "language_info": {
   "codemirror_mode": {
    "name": "ipython",
    "version": 3
   },
   "file_extension": ".py",
   "mimetype": "text/x-python",
   "name": "python",
   "nbconvert_exporter": "python",
   "pygments_lexer": "ipython3",
   "version": "3.6.6"
  },
  "toc": {
   "base_numbering": 1,
   "nav_menu": {},
   "number_sections": true,
   "sideBar": true,
   "skip_h1_title": false,
   "title_cell": "Table of Contents",
   "title_sidebar": "Contents",
   "toc_cell": false,
   "toc_position": {},
   "toc_section_display": true,
   "toc_window_display": false
  }
 },
 "nbformat": 4,
 "nbformat_minor": 2
}
