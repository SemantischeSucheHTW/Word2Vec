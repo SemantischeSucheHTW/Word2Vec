{
 "cells": [
  {
   "cell_type": "code",
   "execution_count": 1,
   "metadata": {},
   "outputs": [
    {
     "name": "stderr",
     "output_type": "stream",
     "text": [
      "C:\\Users\\olive\\Anaconda3\\envs\\sema\\lib\\site-packages\\gensim\\utils.py:1197: UserWarning: detected Windows; aliasing chunkize to chunkize_serial\n",
      "  warnings.warn(\"detected Windows; aliasing chunkize to chunkize_serial\")\n"
     ]
    }
   ],
   "source": [
    "from model.preprocessor import *\n",
    "from model.similarWords import SimilarWords"
   ]
  },
  {
   "cell_type": "code",
   "execution_count": 2,
   "metadata": {},
   "outputs": [],
   "source": [
    "configwi2 = {}\n",
    "configwi2['model_name'] = 'window2restDefault.model'\n",
    "swwi2 = SimilarWords(configwi2)"
   ]
  },
  {
   "cell_type": "code",
   "execution_count": 3,
   "metadata": {},
   "outputs": [],
   "source": [
    "configwi4 = {}\n",
    "configwi4['model_name'] = 'window4restDefault.model'\n",
    "swwi4 = SimilarWords(configwi4)"
   ]
  },
  {
   "cell_type": "code",
   "execution_count": 4,
   "metadata": {},
   "outputs": [],
   "source": [
    "configwi8 = {}\n",
    "configwi8['model_name'] = 'window8restDefault.model'\n",
    "swwi8 = SimilarWords(configwi8)"
   ]
  },
  {
   "cell_type": "code",
   "execution_count": 5,
   "metadata": {},
   "outputs": [],
   "source": [
    "configwi16 = {}\n",
    "configwi16['model_name'] = 'window16restDefault.model'\n",
    "swwi16 = SimilarWords(configwi16)"
   ]
  },
  {
   "cell_type": "code",
   "execution_count": 6,
   "metadata": {},
   "outputs": [],
   "source": [
    "userinput = 'überfall messer auto'\n",
    "user_token = userinput.lower().split(\" \")"
   ]
  },
  {
   "cell_type": "code",
   "execution_count": 7,
   "metadata": {},
   "outputs": [],
   "source": [
    "sw1_with_drop, sw1_without_drop = swwi2.get_similar_words(user_token)\n",
    "sw2_with_drop, sw2_without_drop = swwi4.get_similar_words(user_token)\n",
    "sw3_with_drop, sw3_without_drop = swwi8.get_similar_words(user_token)\n",
    "sw4_with_drop, sw4_without_drop = swwi16.get_similar_words(user_token)"
   ]
  },
  {
   "cell_type": "code",
   "execution_count": 8,
   "metadata": {},
   "outputs": [
    {
     "data": {
      "text/plain": [
       "[[('raub', 0.6896593570709229),\n",
       "  ('angriff', 0.6822406053543091),\n",
       "  ('raubüberfall', 0.6492539048194885),\n",
       "  ('unfall', 0.5994178056716919),\n",
       "  ('verkehrsunfall', 0.5870935916900635)],\n",
       " [('pfefferspray', 0.6255180835723877),\n",
       "  ('elektroschockgerät', 0.6145743131637573),\n",
       "  ('schlagstock', 0.6051552295684814),\n",
       "  ('hammer', 0.595253586769104),\n",
       "  ('baseballschläger', 0.5885287523269653)],\n",
       " [('fahrzeug', 0.8510357141494751),\n",
       "  ('wagen', 0.7542892694473267),\n",
       "  ('taxi', 0.7453787326812744),\n",
       "  ('pkw', 0.7223204374313354),\n",
       "  ('fahrrad', 0.6720043420791626)]]"
      ]
     },
     "execution_count": 8,
     "metadata": {},
     "output_type": "execute_result"
    }
   ],
   "source": [
    "sw1_without_drop"
   ]
  },
  {
   "cell_type": "code",
   "execution_count": 9,
   "metadata": {},
   "outputs": [
    {
     "data": {
      "text/plain": [
       "[[('raubüberfall', 0.7352429628372192),\n",
       "  ('raub', 0.6989649534225464),\n",
       "  ('angriff', 0.6876336336135864),\n",
       "  ('übergriff', 0.6440634727478027),\n",
       "  ('raubversuch', 0.6162502765655518)],\n",
       " [('elektroschockgerät', 0.6507594585418701),\n",
       "  ('hammer', 0.6292474269866943),\n",
       "  ('baseballschläger', 0.6075050830841064),\n",
       "  ('schlagstock', 0.5993893146514893),\n",
       "  ('pfefferspray', 0.5927910804748535)],\n",
       " [('fahrzeug', 0.8431988954544067),\n",
       "  ('wagen', 0.7047665119171143),\n",
       "  ('motorrad', 0.7006775140762329),\n",
       "  ('pkw', 0.6917636394500732),\n",
       "  ('taxi', 0.6710808277130127)]]"
      ]
     },
     "execution_count": 9,
     "metadata": {},
     "output_type": "execute_result"
    }
   ],
   "source": [
    "sw2_without_drop"
   ]
  },
  {
   "cell_type": "code",
   "execution_count": 10,
   "metadata": {},
   "outputs": [
    {
     "data": {
      "text/plain": [
       "[[('raubüberfall', 0.7401796579360962),\n",
       "  ('angriff', 0.685753583908081),\n",
       "  ('raub', 0.6521583795547485),\n",
       "  ('übergriff', 0.6499552726745605),\n",
       "  ('wohnungsbrand', 0.598661482334137)],\n",
       " [('schlagstock', 0.584113359451294),\n",
       "  ('dönermesser', 0.5784265995025635),\n",
       "  ('schusswaffe', 0.5651971697807312),\n",
       "  ('elektroschockgerät', 0.5651443600654602),\n",
       "  ('hammer', 0.5630080103874207)],\n",
       " [('fahrzeug', 0.8409444093704224),\n",
       "  ('motorrad', 0.7384305000305176),\n",
       "  ('pkw', 0.721585750579834),\n",
       "  ('taxi', 0.6915907859802246),\n",
       "  ('wagen', 0.684705376625061)]]"
      ]
     },
     "execution_count": 10,
     "metadata": {},
     "output_type": "execute_result"
    }
   ],
   "source": [
    "sw3_without_drop"
   ]
  },
  {
   "cell_type": "code",
   "execution_count": 11,
   "metadata": {},
   "outputs": [
    {
     "data": {
      "text/plain": [
       "[[('raubüberfall', 0.7419127225875854),\n",
       "  ('raub', 0.6827729344367981),\n",
       "  ('angriff', 0.6503007411956787),\n",
       "  ('übergriff', 0.6097537279129028),\n",
       "  ('handtaschenraub', 0.5557126402854919)],\n",
       " [('dönermesser', 0.5549877882003784),\n",
       "  ('schlägen', 0.518652081489563),\n",
       "  ('schusswaffe', 0.516467273235321),\n",
       "  ('elektroschockgerät', 0.4842526316642761),\n",
       "  ('zerbrochenen', 0.48035547137260437)],\n",
       " [('fahrzeug', 0.8685686588287354),\n",
       "  ('wagen', 0.7495565414428711),\n",
       "  ('motorrad', 0.741828203201294),\n",
       "  ('pkw', 0.735488772392273),\n",
       "  ('mercedes', 0.6673584580421448)]]"
      ]
     },
     "execution_count": 11,
     "metadata": {},
     "output_type": "execute_result"
    }
   ],
   "source": [
    "sw4_without_drop"
   ]
  },
  {
   "cell_type": "code",
   "execution_count": null,
   "metadata": {},
   "outputs": [],
   "source": []
  }
 ],
 "metadata": {
  "kernelspec": {
   "display_name": "Python 3",
   "language": "python",
   "name": "python3"
  },
  "language_info": {
   "codemirror_mode": {
    "name": "ipython",
    "version": 3
   },
   "file_extension": ".py",
   "mimetype": "text/x-python",
   "name": "python",
   "nbconvert_exporter": "python",
   "pygments_lexer": "ipython3",
   "version": "3.7.2"
  }
 },
 "nbformat": 4,
 "nbformat_minor": 2
}
