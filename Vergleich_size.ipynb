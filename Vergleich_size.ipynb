{
 "cells": [
  {
   "cell_type": "code",
   "execution_count": 1,
   "metadata": {},
   "outputs": [
    {
     "name": "stderr",
     "output_type": "stream",
     "text": [
      "C:\\Users\\olive\\Anaconda3\\envs\\sema\\lib\\site-packages\\gensim\\utils.py:1197: UserWarning: detected Windows; aliasing chunkize to chunkize_serial\n",
      "  warnings.warn(\"detected Windows; aliasing chunkize to chunkize_serial\")\n"
     ]
    }
   ],
   "source": [
    "from model.preprocessor import *\n",
    "from model.similarWords import SimilarWords"
   ]
  },
  {
   "cell_type": "code",
   "execution_count": 2,
   "metadata": {},
   "outputs": [],
   "source": [
    "configsize100 = {}\n",
    "configsize100['model_name'] = 'size100w2restDefault.model'\n",
    "swsize100 = SimilarWords(configsize100)"
   ]
  },
  {
   "cell_type": "code",
   "execution_count": 9,
   "metadata": {},
   "outputs": [],
   "source": [
    "configsize200 = {}\n",
    "configsize200['model_name'] = 'size200w2restDefault.model'\n",
    "swsize200 = SimilarWords(configsize200)"
   ]
  },
  {
   "cell_type": "code",
   "execution_count": 10,
   "metadata": {},
   "outputs": [],
   "source": [
    "configsize300 = {}\n",
    "configsize300['model_name'] = 'size300w2restDefault.model'\n",
    "swsize300 = SimilarWords(configsize300)"
   ]
  },
  {
   "cell_type": "code",
   "execution_count": 11,
   "metadata": {},
   "outputs": [],
   "source": [
    "userinput = 'überfall messer auto'\n",
    "user_token = userinput.lower().split(\" \")"
   ]
  },
  {
   "cell_type": "code",
   "execution_count": 12,
   "metadata": {},
   "outputs": [],
   "source": [
    "sw1_with_drop, sw1_without_drop = swsize100.get_similar_words(user_token)\n",
    "sw2_with_drop, sw2_without_drop = swsize200.get_similar_words(user_token)\n",
    "sw3_with_drop, sw3_without_drop = swsize300.get_similar_words(user_token)"
   ]
  },
  {
   "cell_type": "code",
   "execution_count": 13,
   "metadata": {},
   "outputs": [
    {
     "data": {
      "text/plain": [
       "[[('raub', 0.6637537479400635),\n",
       "  ('angriff', 0.6623597145080566),\n",
       "  ('raubüberfall', 0.6210204362869263),\n",
       "  ('unfall', 0.5827472805976868),\n",
       "  ('verkehrsunfall', 0.571561336517334)],\n",
       " [('elektroschockgerät', 0.6254651546478271),\n",
       "  ('pfefferspray', 0.6109691858291626),\n",
       "  ('baseballschläger', 0.5999364852905273),\n",
       "  ('schlagstock', 0.5903946757316589),\n",
       "  ('hammer', 0.588509202003479)],\n",
       " [('fahrzeug', 0.8772609233856201),\n",
       "  ('wagen', 0.7753048539161682),\n",
       "  ('taxi', 0.7364219427108765),\n",
       "  ('pkw', 0.7300835251808167),\n",
       "  ('fahrrad', 0.657903790473938)]]"
      ]
     },
     "execution_count": 13,
     "metadata": {},
     "output_type": "execute_result"
    }
   ],
   "source": [
    "sw1_without_drop"
   ]
  },
  {
   "cell_type": "code",
   "execution_count": 14,
   "metadata": {},
   "outputs": [
    {
     "data": {
      "text/plain": [
       "[[('raub', 0.5930891633033752),\n",
       "  ('angriff', 0.5598132610321045),\n",
       "  ('raubüberfall', 0.5409187078475952),\n",
       "  ('übergriff', 0.5272245407104492),\n",
       "  ('raubversuch', 0.4888381361961365)],\n",
       " [('pfefferspray', 0.5241934657096863),\n",
       "  ('baseballschläger', 0.5108171105384827),\n",
       "  ('schlagstock', 0.5049024820327759),\n",
       "  ('elektroschockgerät', 0.5032393336296082),\n",
       "  ('cuttermesser', 0.4997478127479553)],\n",
       " [('fahrzeug', 0.6702954769134521),\n",
       "  ('pkw', 0.6322651505470276),\n",
       "  ('taxi', 0.6277450323104858),\n",
       "  ('wagen', 0.575388491153717),\n",
       "  ('zweirad', 0.5441992282867432)]]"
      ]
     },
     "execution_count": 14,
     "metadata": {},
     "output_type": "execute_result"
    }
   ],
   "source": [
    "sw2_without_drop"
   ]
  },
  {
   "cell_type": "code",
   "execution_count": 15,
   "metadata": {},
   "outputs": [
    {
     "data": {
      "text/plain": [
       "[[('raub', 0.5891448259353638),\n",
       "  ('angriff', 0.5490963459014893),\n",
       "  ('raubüberfall', 0.5306490659713745),\n",
       "  ('übergriff', 0.5121574401855469),\n",
       "  ('raubversuch', 0.4790089726448059)],\n",
       " [('cuttermesser', 0.5051311254501343),\n",
       "  ('schlagstock', 0.5050764083862305),\n",
       "  ('elektroschockgerät', 0.5039488673210144),\n",
       "  ('baseballschläger', 0.5024706125259399),\n",
       "  ('pfefferspray', 0.5017023682594299)],\n",
       " [('fahrzeug', 0.6234060525894165),\n",
       "  ('pkw', 0.5920446515083313),\n",
       "  ('taxi', 0.5898491740226746),\n",
       "  ('wagen', 0.5434181690216064),\n",
       "  ('zweirad', 0.5414895415306091)]]"
      ]
     },
     "execution_count": 15,
     "metadata": {},
     "output_type": "execute_result"
    }
   ],
   "source": [
    "sw3_without_drop"
   ]
  },
  {
   "cell_type": "code",
   "execution_count": null,
   "metadata": {},
   "outputs": [],
   "source": []
  }
 ],
 "metadata": {
  "kernelspec": {
   "display_name": "Python 3",
   "language": "python",
   "name": "python3"
  },
  "language_info": {
   "codemirror_mode": {
    "name": "ipython",
    "version": 3
   },
   "file_extension": ".py",
   "mimetype": "text/x-python",
   "name": "python",
   "nbconvert_exporter": "python",
   "pygments_lexer": "ipython3",
   "version": "3.7.2"
  }
 },
 "nbformat": 4,
 "nbformat_minor": 2
}
