{
 "cells": [
  {
   "cell_type": "code",
   "execution_count": 1,
   "metadata": {},
   "outputs": [
    {
     "name": "stderr",
     "output_type": "stream",
     "text": [
      "C:\\Users\\olive\\Anaconda3\\envs\\sema\\lib\\site-packages\\gensim\\utils.py:1197: UserWarning: detected Windows; aliasing chunkize to chunkize_serial\n",
      "  warnings.warn(\"detected Windows; aliasing chunkize to chunkize_serial\")\n"
     ]
    }
   ],
   "source": [
    "from model.preprocessor import *\n",
    "from model.similarWords import SimilarWords"
   ]
  },
  {
   "cell_type": "code",
   "execution_count": 2,
   "metadata": {},
   "outputs": [],
   "source": [
    "configep10 = {}\n",
    "configep10['model_name'] = 'epoch10restDefault.model'\n",
    "swep10 = SimilarWords(configep10)"
   ]
  },
  {
   "cell_type": "code",
   "execution_count": 3,
   "metadata": {},
   "outputs": [],
   "source": [
    "configep50 = {}\n",
    "configep50['model_name'] = 'epoch50restDefault.model'\n",
    "swep50 = SimilarWords(configep50)"
   ]
  },
  {
   "cell_type": "code",
   "execution_count": 4,
   "metadata": {},
   "outputs": [],
   "source": [
    "configep100 = {}\n",
    "configep100['model_name'] = 'epoch100restDefault.model'\n",
    "swep100 = SimilarWords(configep100)"
   ]
  },
  {
   "cell_type": "code",
   "execution_count": 5,
   "metadata": {},
   "outputs": [],
   "source": [
    "configep150 = {}\n",
    "configep150['model_name'] = 'epoch10restDefault.model'\n",
    "swep150 = SimilarWords(configep150)"
   ]
  },
  {
   "cell_type": "code",
   "execution_count": 6,
   "metadata": {},
   "outputs": [],
   "source": [
    "configep200 = {}\n",
    "configep200['model_name'] = 'epoch200restDefault.model'\n",
    "swep200 = SimilarWords(configep200)"
   ]
  },
  {
   "cell_type": "code",
   "execution_count": 7,
   "metadata": {},
   "outputs": [],
   "source": [
    "userinput = 'überfall messer'\n",
    "user_token = userinput.lower().split(\" \")"
   ]
  },
  {
   "cell_type": "code",
   "execution_count": 8,
   "metadata": {},
   "outputs": [],
   "source": [
    "swep10_with_drop, swep10_without_drop = swep10.get_similar_words(user_token)\n",
    "#swep50_with_drop, swep50_without_drop = swep50.get_similar_words(user_token)\n",
    "#swep100_with_drop, swep100_without_drop = swep100.get_similar_words(user_token)\n",
    "#swep150_with_drop, swep150_without_drop = swep150.get_similar_words(user_token)\n",
    "#swep200_with_drop, swep200_without_drop = swep200.get_similar_words(user_token)"
   ]
  },
  {
   "cell_type": "code",
   "execution_count": 9,
   "metadata": {},
   "outputs": [
    {
     "data": {
      "text/plain": [
       "[[('angriff', 0.7422066926956177),\n",
       "  ('raubüberfall', 0.7375864386558533),\n",
       "  ('raub', 0.716877818107605),\n",
       "  ('übergriff', 0.6989787817001343),\n",
       "  ('verkehrsunfall', 0.6845114231109619)],\n",
       " [('baseballschläger', 0.7819439768791199),\n",
       "  ('pfefferspray', 0.77649986743927),\n",
       "  ('schlagstock', 0.7567178010940552),\n",
       "  ('schusswaffe', 0.7083009481430054),\n",
       "  ('reizgas', 0.6924836039543152)]]"
      ]
     },
     "execution_count": 9,
     "metadata": {},
     "output_type": "execute_result"
    }
   ],
   "source": [
    "swep10_without_drop"
   ]
  },
  {
   "cell_type": "code",
   "execution_count": 10,
   "metadata": {},
   "outputs": [
    {
     "data": {
      "text/plain": [
       "[[('angriff', 0.7422066926956177),\n",
       "  ('raubüberfall', 0.7375864386558533),\n",
       "  ('raub', 0.716877818107605),\n",
       "  ('übergriff', 0.6989787817001343),\n",
       "  ('verkehrsunfall', 0.6845114231109619)],\n",
       " [('baseballschläger', 0.7819439768791199),\n",
       "  ('pfefferspray', 0.77649986743927),\n",
       "  ('schlagstock', 0.7567178010940552),\n",
       "  ('schusswaffe', 0.7083009481430054),\n",
       "  ('reizgas', 0.6924836039543152)]]"
      ]
     },
     "execution_count": 10,
     "metadata": {},
     "output_type": "execute_result"
    }
   ],
   "source": [
    "swep10_with_drop"
   ]
  },
  {
   "cell_type": "code",
   "execution_count": null,
   "metadata": {},
   "outputs": [],
   "source": []
  }
 ],
 "metadata": {
  "kernelspec": {
   "display_name": "Python 3",
   "language": "python",
   "name": "python3"
  },
  "language_info": {
   "codemirror_mode": {
    "name": "ipython",
    "version": 3
   },
   "file_extension": ".py",
   "mimetype": "text/x-python",
   "name": "python",
   "nbconvert_exporter": "python",
   "pygments_lexer": "ipython3",
   "version": "3.7.2"
  }
 },
 "nbformat": 4,
 "nbformat_minor": 2
}
