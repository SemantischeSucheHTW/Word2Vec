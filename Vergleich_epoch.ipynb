{
 "cells": [
  {
   "cell_type": "code",
   "execution_count": 1,
   "metadata": {},
   "outputs": [
    {
     "name": "stderr",
     "output_type": "stream",
     "text": [
      "C:\\Users\\olive\\Anaconda3\\envs\\sema\\lib\\site-packages\\gensim\\utils.py:1197: UserWarning: detected Windows; aliasing chunkize to chunkize_serial\n",
      "  warnings.warn(\"detected Windows; aliasing chunkize to chunkize_serial\")\n"
     ]
    }
   ],
   "source": [
    "from model.preprocessor import *\n",
    "from model.similarWords import SimilarWords"
   ]
  },
  {
   "cell_type": "code",
   "execution_count": 2,
   "metadata": {},
   "outputs": [],
   "source": [
    "configep10 = {}\n",
    "configep10['model_name'] = 'epoch10restDefault.model'\n",
    "swep10 = SimilarWords(configep10)"
   ]
  },
  {
   "cell_type": "code",
   "execution_count": 3,
   "metadata": {},
   "outputs": [],
   "source": [
    "configep50 = {}\n",
    "configep50['model_name'] = 'epoch50restDefault.model'\n",
    "swep50 = SimilarWords(configep50)"
   ]
  },
  {
   "cell_type": "code",
   "execution_count": 4,
   "metadata": {},
   "outputs": [],
   "source": [
    "configep100 = {}\n",
    "configep100['model_name'] = 'epoch100restDefault.model'\n",
    "swep100 = SimilarWords(configep100)"
   ]
  },
  {
   "cell_type": "code",
   "execution_count": 5,
   "metadata": {},
   "outputs": [],
   "source": [
    "configep150 = {}\n",
    "configep150['model_name'] = 'epoch10restDefault.model'\n",
    "swep150 = SimilarWords(configep150)"
   ]
  },
  {
   "cell_type": "code",
   "execution_count": 6,
   "metadata": {},
   "outputs": [],
   "source": [
    "configep200 = {}\n",
    "configep200['model_name'] = 'epoch200restDefault.model'\n",
    "swep200 = SimilarWords(configep200)"
   ]
  },
  {
   "cell_type": "code",
   "execution_count": 7,
   "metadata": {},
   "outputs": [],
   "source": [
    "userinput = 'überfall messer auto'\n",
    "user_token = userinput.lower().split(\" \")"
   ]
  },
  {
   "cell_type": "code",
   "execution_count": 8,
   "metadata": {},
   "outputs": [],
   "source": [
    "swep10_with_drop, swep10_without_drop = swep10.get_similar_words(user_token)\n",
    "swep50_with_drop, swep50_without_drop = swep50.get_similar_words(user_token)\n",
    "swep100_with_drop, swep100_without_drop = swep100.get_similar_words(user_token)\n",
    "swep150_with_drop, swep150_without_drop = swep150.get_similar_words(user_token)\n",
    "swep200_with_drop, swep200_without_drop = swep200.get_similar_words(user_token)"
   ]
  },
  {
   "cell_type": "code",
   "execution_count": 9,
   "metadata": {},
   "outputs": [
    {
     "data": {
      "text/plain": [
       "[[('angriff', 0.7422066926956177),\n",
       "  ('raubüberfall', 0.7375864386558533),\n",
       "  ('raub', 0.716877818107605),\n",
       "  ('übergriff', 0.6989787817001343),\n",
       "  ('verkehrsunfall', 0.6845114231109619)],\n",
       " [('baseballschläger', 0.7819439768791199),\n",
       "  ('pfefferspray', 0.77649986743927),\n",
       "  ('schlagstock', 0.7567178010940552),\n",
       "  ('schusswaffe', 0.7083009481430054),\n",
       "  ('reizgas', 0.6924836039543152)],\n",
       " [('fahrzeug', 0.8636177778244019),\n",
       "  ('taxi', 0.7576591968536377),\n",
       "  ('wagen', 0.7554757595062256),\n",
       "  ('polizeifahrzeug', 0.740753173828125),\n",
       "  ('pkw', 0.7214255928993225)]]"
      ]
     },
     "execution_count": 9,
     "metadata": {},
     "output_type": "execute_result"
    }
   ],
   "source": [
    "swep10_without_drop"
   ]
  },
  {
   "cell_type": "code",
   "execution_count": 10,
   "metadata": {},
   "outputs": [
    {
     "data": {
      "text/plain": [
       "[[('raub', 0.6758161783218384),\n",
       "  ('angriff', 0.6708593368530273),\n",
       "  ('raubüberfall', 0.6564128398895264),\n",
       "  ('raubversuch', 0.5864554643630981),\n",
       "  ('übergriff', 0.5822290778160095)],\n",
       " [('baseballschläger', 0.6522964835166931),\n",
       "  ('pfefferspray', 0.6223181486129761),\n",
       "  ('schlagstock', 0.6147257089614868),\n",
       "  ('elektroschockgerät', 0.5946667790412903),\n",
       "  ('schusswaffe', 0.5847774744033813)],\n",
       " [('fahrzeug', 0.8517372608184814),\n",
       "  ('wagen', 0.7348148226737976),\n",
       "  ('taxi', 0.7219821214675903),\n",
       "  ('pkw', 0.7149842977523804),\n",
       "  ('fahrrad', 0.6621049046516418)]]"
      ]
     },
     "execution_count": 10,
     "metadata": {},
     "output_type": "execute_result"
    }
   ],
   "source": [
    "swep50_without_drop"
   ]
  },
  {
   "cell_type": "code",
   "execution_count": 11,
   "metadata": {},
   "outputs": [
    {
     "data": {
      "text/plain": [
       "[[('angriff', 0.6785645484924316),\n",
       "  ('raub', 0.6762970685958862),\n",
       "  ('raubüberfall', 0.628533661365509),\n",
       "  ('unfall', 0.6046624183654785),\n",
       "  ('verkehrsunfall', 0.5761369466781616)],\n",
       " [('pfefferspray', 0.6452265381813049),\n",
       "  ('baseballschläger', 0.6316167712211609),\n",
       "  ('hammer', 0.6291426420211792),\n",
       "  ('elektroschockgerät', 0.6213449835777283),\n",
       "  ('schlagstock', 0.5880153179168701)],\n",
       " [('fahrzeug', 0.8706475496292114),\n",
       "  ('wagen', 0.7520954608917236),\n",
       "  ('pkw', 0.7390880584716797),\n",
       "  ('taxi', 0.7351573705673218),\n",
       "  ('fahrrad', 0.6608453989028931)]]"
      ]
     },
     "execution_count": 11,
     "metadata": {},
     "output_type": "execute_result"
    }
   ],
   "source": [
    "swep100_without_drop"
   ]
  },
  {
   "cell_type": "code",
   "execution_count": 12,
   "metadata": {},
   "outputs": [
    {
     "data": {
      "text/plain": [
       "[[('angriff', 0.7422066926956177),\n",
       "  ('raubüberfall', 0.7375864386558533),\n",
       "  ('raub', 0.716877818107605),\n",
       "  ('übergriff', 0.6989787817001343),\n",
       "  ('verkehrsunfall', 0.6845114231109619)],\n",
       " [('baseballschläger', 0.7819439768791199),\n",
       "  ('pfefferspray', 0.77649986743927),\n",
       "  ('schlagstock', 0.7567178010940552),\n",
       "  ('schusswaffe', 0.7083009481430054),\n",
       "  ('reizgas', 0.6924836039543152)],\n",
       " [('fahrzeug', 0.8636177778244019),\n",
       "  ('taxi', 0.7576591968536377),\n",
       "  ('wagen', 0.7554757595062256),\n",
       "  ('polizeifahrzeug', 0.740753173828125),\n",
       "  ('pkw', 0.7214255928993225)]]"
      ]
     },
     "execution_count": 12,
     "metadata": {},
     "output_type": "execute_result"
    }
   ],
   "source": [
    "swep150_without_drop"
   ]
  },
  {
   "cell_type": "code",
   "execution_count": 13,
   "metadata": {},
   "outputs": [
    {
     "data": {
      "text/plain": [
       "[[('angriff', 0.6962159872055054),\n",
       "  ('raub', 0.6936554908752441),\n",
       "  ('raubüberfall', 0.6493898630142212),\n",
       "  ('unfall', 0.6233668327331543),\n",
       "  ('verkehrsunfall', 0.5910146832466125)],\n",
       " [('pfefferspray', 0.6464585065841675),\n",
       "  ('baseballschläger', 0.601641833782196),\n",
       "  ('hammer', 0.5708571076393127),\n",
       "  ('reizgas', 0.5683577656745911),\n",
       "  ('elektroschockgerät', 0.563735842704773)],\n",
       " [('fahrzeug', 0.8568987250328064),\n",
       "  ('pkw', 0.7662766575813293),\n",
       "  ('taxi', 0.757393479347229),\n",
       "  ('wagen', 0.7564105987548828),\n",
       "  ('fahrrad', 0.6759797930717468)]]"
      ]
     },
     "execution_count": 13,
     "metadata": {},
     "output_type": "execute_result"
    }
   ],
   "source": [
    "swep200_without_drop"
   ]
  },
  {
   "cell_type": "code",
   "execution_count": null,
   "metadata": {},
   "outputs": [],
   "source": []
  }
 ],
 "metadata": {
  "kernelspec": {
   "display_name": "Python 3",
   "language": "python",
   "name": "python3"
  },
  "language_info": {
   "codemirror_mode": {
    "name": "ipython",
    "version": 3
   },
   "file_extension": ".py",
   "mimetype": "text/x-python",
   "name": "python",
   "nbconvert_exporter": "python",
   "pygments_lexer": "ipython3",
   "version": "3.7.2"
  }
 },
 "nbformat": 4,
 "nbformat_minor": 2
}
